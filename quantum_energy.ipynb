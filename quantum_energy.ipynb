{
  "nbformat": 4,
  "nbformat_minor": 0,
  "metadata": {
    "colab": {
      "name": "quantum_energy.ipynb",
      "provenance": [],
      "authorship_tag": "ABX9TyOY8Uw4+JqscQ5WIC3fyS+2",
      "include_colab_link": true
    },
    "kernelspec": {
      "name": "python3",
      "display_name": "Python 3"
    },
    "language_info": {
      "name": "python"
    }
  },
  "cells": [
    {
      "cell_type": "markdown",
      "metadata": {
        "id": "view-in-github",
        "colab_type": "text"
      },
      "source": [
        "<a href=\"https://colab.research.google.com/github/AMBogacz/data_driven_quantum/blob/main/quantum_energy.ipynb\" target=\"_parent\"><img src=\"https://colab.research.google.com/assets/colab-badge.svg\" alt=\"Open In Colab\"/></a>"
      ]
    },
    {
      "cell_type": "code",
      "execution_count": 1,
      "metadata": {
        "id": "U21h47NYnYa7"
      },
      "outputs": [],
      "source": [
        "import matplotlib.pyplot as plt\n",
        "import numpy as np"
      ]
    },
    {
      "cell_type": "markdown",
      "source": [
        "#### CONSTANTS"
      ],
      "metadata": {
        "id": "LMfAne8uosxn"
      }
    },
    {
      "cell_type": "code",
      "source": [
        "h = 6.626e-34 # Planck constant\n",
        "m = 9.11e-31"
      ],
      "metadata": {
        "id": "Ok-0Bb9GoqoY"
      },
      "execution_count": 2,
      "outputs": []
    },
    {
      "cell_type": "code",
      "source": [
        "x_list = np.linspace(0, 1, 100)\n",
        "L = 1"
      ],
      "metadata": {
        "id": "z1l_VeEtozb_"
      },
      "execution_count": 3,
      "outputs": []
    },
    {
      "cell_type": "code",
      "source": [
        "def psi(n, L, x):\n",
        "  return np.sqrt(2/L) * np.sin(n*np.pi*x/L)"
      ],
      "metadata": {
        "id": "hTpTX8Bmpe5Q"
      },
      "execution_count": 4,
      "outputs": []
    },
    {
      "cell_type": "code",
      "source": [
        "def psi_2(n, L, x):\n",
        "  return np.square(psi(n, L, x))"
      ],
      "metadata": {
        "id": "fupqnzCTpsOn"
      },
      "execution_count": 5,
      "outputs": []
    },
    {
      "cell_type": "code",
      "source": [
        "plt.figure(figsize=(15,10))"
      ],
      "metadata": {
        "colab": {
          "base_uri": "https://localhost:8080/",
          "height": 52
        },
        "id": "muvJElkLp3lX",
        "outputId": "26032d56-296b-48cc-d197-1945cad04958"
      },
      "execution_count": 6,
      "outputs": [
        {
          "output_type": "execute_result",
          "data": {
            "text/plain": [
              "<Figure size 1080x720 with 0 Axes>"
            ]
          },
          "metadata": {},
          "execution_count": 6
        },
        {
          "output_type": "display_data",
          "data": {
            "text/plain": [
              "<Figure size 1080x720 with 0 Axes>"
            ]
          },
          "metadata": {}
        }
      ]
    },
    {
      "cell_type": "code",
      "source": [
        "plt.suptitle(\"Wave functions\", fontsize=18)"
      ],
      "metadata": {
        "colab": {
          "base_uri": "https://localhost:8080/",
          "height": 52
        },
        "id": "n8JPXbrVqBwH",
        "outputId": "b05ebca7-4f5a-4342-d0c0-180dddede570"
      },
      "execution_count": 7,
      "outputs": [
        {
          "output_type": "execute_result",
          "data": {
            "text/plain": [
              "Text(0.5, 0.98, 'Wave functions')"
            ]
          },
          "metadata": {},
          "execution_count": 7
        },
        {
          "output_type": "display_data",
          "data": {
            "text/plain": [
              "<Figure size 432x288 with 0 Axes>"
            ]
          },
          "metadata": {}
        }
      ]
    },
    {
      "cell_type": "code",
      "source": [
        "for n in range(1,4):\n",
        "  #Empty lists for energy and psi wave\n",
        "  psi_2_list = []\n",
        "  psi_list = []\n",
        "  for x in x_list:\n",
        "      psi_2_list.append(psi_2(n,L,x))\n",
        "      psi_list.append(psi(n,L,x))\n",
        "  plt.subplot(3,2,2*n-1)\n",
        "  plt.plot(x_list, psi_list)\n",
        "  plt.xlabel(\"L\", fontsize=13)\n",
        "  plt.ylabel(\"Ψ\", fontsize=13)\n",
        "  plt.xticks(np.arange(0, 1, step=0.5))\n",
        "  plt.title(\"n=\"+str(n), fontsize=16)\n",
        "  plt.grid()\n",
        "  plt.subplot(3,2,2*n)\n",
        "  plt.plot(x_list, psi_2_list)\n",
        "  plt.xlabel(\"L\", fontsize=13)\n",
        "  plt.ylabel(\"Ψ*Ψ\", fontsize=13)\n",
        "  plt.xticks(np.arange(0, 1, step=0.5))\n",
        "  plt.title(\"n=\"+str(n), fontsize=16)\n",
        "  plt.grid()\n",
        "\n",
        "\n",
        "plt.tight_layout(rect=[0, 0.03, 1, 0.95])"
      ],
      "metadata": {
        "colab": {
          "base_uri": "https://localhost:8080/",
          "height": 274
        },
        "id": "sRwj40_9qK0v",
        "outputId": "7caccde9-0f2c-4eac-b448-44a1ae07e454"
      },
      "execution_count": 9,
      "outputs": [
        {
          "output_type": "display_data",
          "data": {
            "text/plain": [
              "<Figure size 432x288 with 6 Axes>"
            ],
            "image/png": "[encoded data removed]"
          },
          "metadata": {
            "needs_background": "light"
          }
        }
      ]
    },
    {
      "cell_type": "code",
      "source": [
        ""
      ],
      "metadata": {
        "id": "p34rfvWqqN6n"
      },
      "execution_count": null,
      "outputs": []
    }
  ]
}